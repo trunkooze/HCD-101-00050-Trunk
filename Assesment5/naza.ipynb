{
 "cells": [
  {
   "cell_type": "code",
   "execution_count": 1,
   "id": "42f09584",
   "metadata": {},
   "outputs": [
    {
     "name": "stdout",
     "output_type": "stream",
     "text": [
      "✅ Saved: nasa_numerical.csv, nasa_textual.csv\n"
     ]
    }
   ],
   "source": [
    "import requests\n",
    "import pandas as pd\n",
    "from collections import Counter\n",
    "import re\n",
    "\n",
    "API_KEY = \"6P7lBMYH14IwTfj9VYLSZUPpVbLMNZWoA2okXilr\"  # replace with your actual key if needed\n",
    "START_DATE = \"2023-01-01\"\n",
    "END_DATE = \"2023-12-31\"\n",
    "URL = f\"https://api.nasa.gov/planetary/apod?api_key={API_KEY}&start_date={START_DATE}&end_date={END_DATE}\"\n",
    "\n",
    "response = requests.get(URL)\n",
    "data = response.json()\n",
    "\n",
    "# Numerical: count APODs by month\n",
    "dates = pd.to_datetime([entry[\"date\"] for entry in data if \"date\" in entry])\n",
    "monthly_counts = dates.to_series().dt.to_period(\"M\").value_counts().sort_index()\n",
    "numerical_df = monthly_counts.reset_index()\n",
    "numerical_df.columns = [\"month\", \"count\"]\n",
    "numerical_df.to_csv(\"nasa_numerical.csv\", index=False)\n",
    "\n",
    "# Textual: word frequency from titles\n",
    "titles = [entry[\"title\"] for entry in data if \"title\" in entry]\n",
    "words = re.findall(r\"\\\\b[a-zA-Z]{4,}\\\\b\", \" \".join(titles).lower())\n",
    "textual_df = pd.DataFrame(Counter(words).most_common(30), columns=[\"word\", \"frequency\"])\n",
    "textual_df.to_csv(\"nasa_textual.csv\", index=False)\n",
    "\n",
    "print(\"✅ Saved: nasa_numerical.csv, nasa_textual.csv\")"
   ]
  },
  {
   "cell_type": "code",
   "execution_count": 3,
   "id": "bb64360e",
   "metadata": {},
   "outputs": [
    {
     "name": "stdout",
     "output_type": "stream",
     "text": [
      "✅ Created nasa_textual.csv with 0 words\n"
     ]
    }
   ],
   "source": [
    "import requests\n",
    "import pandas as pd\n",
    "import re\n",
    "from collections import Counter\n",
    "\n",
    "API_KEY = \"6P7lBMYH14IwTfj9VYLSZUPpVbLMNZWoA2okXilr\"  # replace with your real key for more quota\n",
    "START_DATE = \"2023-01-01\"\n",
    "END_DATE = \"2023-12-31\"\n",
    "\n",
    "url = f\"https://api.nasa.gov/planetary/apod?api_key={API_KEY}&start_date={START_DATE}&end_date={END_DATE}\"\n",
    "\n",
    "response = requests.get(url)\n",
    "if not response.ok:\n",
    "    print(\"❌ Failed to fetch data:\", response.text)\n",
    "    exit()\n",
    "\n",
    "data = response.json()\n",
    "\n",
    "# Extract titles\n",
    "titles = [entry.get(\"title\", \"\") for entry in data]\n",
    "\n",
    "# Tokenize and clean\n",
    "all_words = re.findall(r\"\\\\b[a-zA-Z]{4,}\\\\b\", \" \".join(titles).lower())\n",
    "\n",
    "# Count frequency\n",
    "counter = Counter(all_words)\n",
    "top_words = counter.most_common(30)\n",
    "\n",
    "# Save to CSV\n",
    "df = pd.DataFrame(top_words, columns=[\"word\", \"frequency\"])\n",
    "df.to_csv(\"nasa_textual.csv\", index=False)\n",
    "\n",
    "print(\"✅ Created nasa_textual.csv with\", len(df), \"words\")"
   ]
  },
  {
   "cell_type": "code",
   "execution_count": 5,
   "id": "503e523b",
   "metadata": {},
   "outputs": [
    {
     "name": "stdout",
     "output_type": "stream",
     "text": [
      "✅ 'nasa_textual.csv' has been created with the top 30 words.\n"
     ]
    }
   ],
   "source": [
    "import requests\n",
    "import pandas as pd\n",
    "import re\n",
    "from collections import Counter\n",
    "\n",
    "# Define search parameters\n",
    "params = {\n",
    "    'q': 'mars',\n",
    "    'media_type': 'image',\n",
    "    'year_start': '2020',\n",
    "    'year_end': '2025'\n",
    "}\n",
    "\n",
    "# Make the API request\n",
    "response = requests.get('https://images-api.nasa.gov/search', params=params)\n",
    "data = response.json()\n",
    "\n",
    "# Extract titles and descriptions\n",
    "items = data.get('collection', {}).get('items', [])\n",
    "texts = []\n",
    "for item in items:\n",
    "    data_fields = item.get('data', [])\n",
    "    for field in data_fields:\n",
    "        title = field.get('title', '')\n",
    "        description = field.get('description', '')\n",
    "        texts.extend([title, description])\n",
    "\n",
    "# Combine texts and tokenize\n",
    "combined_text = ' '.join(texts).lower()\n",
    "words = re.findall(r'\\b[a-z]{4,}\\b', combined_text)\n",
    "\n",
    "# Count word frequencies\n",
    "word_counts = Counter(words)\n",
    "top_words = word_counts.most_common(30)\n",
    "\n",
    "# Save to CSV\n",
    "df = pd.DataFrame(top_words, columns=['word', 'frequency'])\n",
    "df.to_csv('nasa_textual.csv', index=False)\n",
    "\n",
    "print(\"✅ 'nasa_textual.csv' has been created with the top 30 words.\")"
   ]
  }
 ],
 "metadata": {
  "kernelspec": {
   "display_name": "numpy_lab",
   "language": "python",
   "name": "python3"
  },
  "language_info": {
   "codemirror_mode": {
    "name": "ipython",
    "version": 3
   },
   "file_extension": ".py",
   "mimetype": "text/x-python",
   "name": "python",
   "nbconvert_exporter": "python",
   "pygments_lexer": "ipython3",
   "version": "3.10.13"
  }
 },
 "nbformat": 4,
 "nbformat_minor": 5
}
